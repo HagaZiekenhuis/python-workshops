{
 "nbformat": 4,
 "nbformat_minor": 0,
 "metadata": {
  "colab": {
   "provenance": [
    {
     "file_id": "15mFh6dmZ9tWTnG5c0sZ6jRlg6dRLGOnJ",
     "timestamp": 1677746007368
    }
   ],
   "collapsed_sections": [
    "zvmXvzZ9UKh4"
   ]
  },
  "kernelspec": {
   "name": "python3",
   "language": "python",
   "display_name": "Python 3 (ipykernel)"
  },
  "language_info": {
   "name": "python"
  }
 },
 "cells": [
  {
   "cell_type": "markdown",
   "source": [
    "We beginnen hieronder met het importeren van pandas. Daarnaast veranderen we de instellingen van deze Jupyter Notebook om tabellen makkelijker en overzichterlijker kunnen bekijken."
   ],
   "metadata": {
    "id": "mqcW2poFkIU3"
   }
  },
  {
   "cell_type": "code",
   "source": [
    "import pandas as pd\n",
    "%reload_ext google.colab.data_table"
   ],
   "metadata": {
    "id": "dxhyiH-ikRh0"
   },
   "execution_count": null,
   "outputs": []
  },
  {
   "cell_type": "markdown",
   "source": [
    "We beginnnen met het inladen van .csv data. Dit doen we met de `read_csv` functie. Aan deze functie geef je de locatie (file path) van het csv bestandje dat je wilt inladen als string. Vervolgens moet je de ingeladen data in een variabele bewaren. In dit geval zullen we deze variabele `df` noemen. Hieronder een demonstratie:\n",
    "\n"
   ],
   "metadata": {
    "id": "P2WjD9kqtTru"
   }
  },
  {
   "cell_type": "code",
   "source": [
    "df = pd.read_csv('sample_data/california_housing_train.csv')"
   ],
   "metadata": {
    "id": "B895GDaHtdfX"
   },
   "execution_count": null,
   "outputs": []
  },
  {
   "cell_type": "markdown",
   "source": [
    "De data is ingeladen in een speciaal Pandas object, genaamd een *dataframe*. Dit is grofweg gezegd een tabel met een index, kolommen en bijbehorende kolomwaarden, zoals je misschien gewend bent van programma's als Excel.\n",
    "Laten we bekijken hoe deze data eruit ziet. Dat kan door simpelweg de naam van de dataframe aan te roepen:"
   ],
   "metadata": {
    "id": "EZGxSekIv75t"
   }
  },
  {
   "cell_type": "code",
   "source": [
    "df"
   ],
   "metadata": {
    "id": "DtxAhpr1xBSv"
   },
   "execution_count": null,
   "outputs": []
  },
  {
   "cell_type": "markdown",
   "source": [
    "# Opdracht: Dataframes opslaan\n",
    "\n",
    "De ingeladen dataframe kunnen we weer opslaan met de commando `df.to_csv`. Let wel op: als de dataframe anders dan `df` heet, gebruik je die naam. Dus als we de dataframe bijvoorbeeld in een variabele genaamd `mijn_data` hadden gestopt, hadden we `mijn_data.to_csv` moeten gebruiken.\n",
    "\n",
    "Vervolgens geef je als argument een string met de locatie waar je de dataframe wilt opslaan, soortgelijk aan de `read_csv` functie eerder.\n",
    "\n",
    "- Uncomment de regels in de codeblock hieronder waar dat gevraagd wordt.\n",
    "- Sla nu in de codeblock hieronder de dataframe `df` op in een zelfgekozen locatie met een zelfgekozen bestandsnaam. \n",
    "- Zoek vervolgens in de Notebook of de csv inderdaad is opgeslagen (klik op het map icoontje in het menu links, onder de vergrootglas). \n",
    "- Probeer daarna weer ditzelfde bestand op te halen.\n",
    "\n"
   ],
   "metadata": {
    "id": "sI7k8aeDOWwC"
   }
  },
  {
   "cell_type": "code",
   "source": [
    "# Opdracht: Dataframes opslaan\n",
    "\n",
    "# Kies een locatie voor de opgeslagen csv\n",
    "# opslag_locatie = <INVULLEN>  # Uncomment deze regel\n",
    "\n",
    "# Sla csv op in gekozen locatie\n",
    "# df.to_csv(<INVULLEN>) # Uncomment deze regel\n",
    "\n",
    "# Haal de opgeslagen csv weer op en sla in een andere dataframe op\n",
    "# df2 = pd.read_csv(<INVULLEN>) # Uncomment deze regel"
   ],
   "metadata": {
    "id": "Q2MJdqwkRQGh"
   },
   "execution_count": null,
   "outputs": []
  },
  {
   "cell_type": "markdown",
   "source": [
    "# Antwoord: Dataframes opslaan"
   ],
   "metadata": {
    "id": "WEBNuwTVSQc2"
   }
  },
  {
   "cell_type": "code",
   "source": [
    "#@title\n",
    "# Antwoord: Dataframes opslaan\n",
    "\n",
    "# Kies een locatie voor de opgeslagen csv\n",
    "opslag_locatie = 'sample_data/california_housing_kopie.csv'\n",
    "\n",
    "# Sla csv op in gekozen locatie\n",
    "df.to_csv(opslag_locatie)\n",
    "\n",
    "# Haal de opgeslagen csv weer op en sla in een andere dataframe op\n",
    "df2 = pd.read_csv(opslag_locatie)"
   ],
   "metadata": {
    "cellView": "form",
    "id": "7OIiMg_7SUAP"
   },
   "execution_count": null,
   "outputs": []
  },
  {
   "cell_type": "markdown",
   "source": [
    "Voor het gemak gebruiken we vanaf nu een data set genaamd `exercises` die inbegrepen zit in de module `Seaborn`."
   ],
   "metadata": {
    "id": "fVPpQV17f-Q6"
   }
  },
  {
   "cell_type": "code",
   "source": [
    "import seaborn as sns\n",
    "\n",
    "# vaak wordt df(dataframe) als variabelenaam gebruikt\n",
    "df = sns.load_dataset('exercise').drop(columns=['Unnamed: 0'])\n",
    "df"
   ],
   "metadata": {
    "id": "5FSk3MbulfiA"
   },
   "execution_count": null,
   "outputs": []
  },
  {
   "cell_type": "raw",
   "source": [
    "Het valt misschien inmiddels op dat veel functies en eigenschappen opgehaald worden met een punt en ook dat meerdere functies achter elkaar uitgevoerd kunnen worden,\n",
    "door deze aan elkaar te schrijven,, gescheiden met een punt."
   ],
   "metadata": {
    "collapsed": false
   }
  },
  {
   "cell_type": "markdown",
   "source": [
    "We kunnen wat samenvattende statistieken/eigenschappen van deze Dataframe bekijken met de `info` en `describe` functie"
   ],
   "metadata": {
    "id": "nmZkDmmhTmyZ"
   }
  },
  {
   "cell_type": "code",
   "source": [
    "print(\"Data type per kolom en aantal geldige rijen:\")\n",
    "df.info()\n",
    "\n",
    "print()\n",
    "print(\"Samenvattende statistieken per kolom:\")\n",
    "df.describe()"
   ],
   "metadata": {
    "id": "t3ZFrOXVT0j-"
   },
   "execution_count": null,
   "outputs": []
  },
  {
   "cell_type": "markdown",
   "source": [
    "# Opdracht: Samenvattende statistieken\n",
    " Welke kolommen bevat de bovenstaande dataframe volgens de `info` functie? En welke zie je terug in de uitvoer van de `describe` functie? Waar komt dit verschil vandaan, denk je? Hint: wat is de datatype voor elke kolom volgens de `info` functie?\n",
    "\n",
    "\n"
   ],
   "metadata": {
    "id": "zvmXvzZ9UKh4"
   }
  },
  {
   "cell_type": "markdown",
   "source": [
    "# Antwoord: Samenvattende statistieken"
   ],
   "metadata": {
    "id": "KdJWyQhrciZf"
   }
  },
  {
   "cell_type": "code",
   "source": [
    "#@title\n",
    "# Volgens de info functie bevatten de kolommen diet, time en kind categorische waardes. \n",
    "# Je kan hier geen statistieken over berekenen, omdat het geen getallen zijn."
   ],
   "metadata": {
    "cellView": "form",
    "id": "DPTPublUgrDd"
   },
   "execution_count": null,
   "outputs": []
  },
  {
   "cell_type": "markdown",
   "source": [
    "Om de data vervolgens iets dieper te verkennen, bekijken we de eerste rijen van deze data set d.m.v. de `head` functie."
   ],
   "metadata": {
    "id": "SS7TGc-Rg7UC"
   }
  },
  {
   "cell_type": "code",
   "source": [
    "# De head functie geeft een voorproefje van de data door de eerste rijen te printen. \n",
    "# Je krijgt standaard de eerste 5 rijen te zien, maar je kan aangeven hoeveel rijen \n",
    "# je wilt: df.head(100) geeft de eerste 100 rijen b.v.\n",
    "\n",
    "df.head()"
   ],
   "metadata": {
    "id": "S_DnuTzeiY7U"
   },
   "execution_count": null,
   "outputs": []
  },
  {
   "cell_type": "markdown",
   "source": [
    "# Opdracht: Pandas tail functie \n",
    "Op dezelfde manier geeft de `tail` functie de *laatste* rijen van een dataframe. Haal de laatste 10 rijen hiermee op."
   ],
   "metadata": {
    "id": "Uf_ar2x8jPH6"
   }
  },
  {
   "cell_type": "code",
   "source": [
    "# Gebruik tail functie om de laatste rijen van een dataframe op te halen\n",
    "# df.<INVULLEN> # Uncomment deze regel"
   ],
   "metadata": {
    "id": "5VHlGTnKhaWY"
   },
   "execution_count": null,
   "outputs": []
  },
  {
   "cell_type": "markdown",
   "source": [
    "# Antwoord: Pandas tail functie"
   ],
   "metadata": {
    "id": "yOVozxG9jBr6"
   }
  },
  {
   "cell_type": "code",
   "source": [
    "#@title\n",
    "# Gebruik tail functie om de laatste rijen van een dataframe op te halen\n",
    "df.tail(10)"
   ],
   "metadata": {
    "id": "KprwjmNMlJMB",
    "cellView": "form"
   },
   "execution_count": null,
   "outputs": []
  },
  {
   "cell_type": "markdown",
   "source": [
    "Krachtiger is de `loc` functie (locate). Hiermee kunnen we specifieke rijen ophalen. Bijvoorbeeld aan de hand van de index (rijnummer)."
   ],
   "metadata": {
    "id": "LQddKnVLlI2E"
   }
  },
  {
   "cell_type": "code",
   "source": [
    "# Haal index 2 tot en met 4 op\n",
    "df.loc[2:4]"
   ],
   "metadata": {
    "id": "j_Wvq4QRmW3v"
   },
   "execution_count": null,
   "outputs": []
  },
  {
   "cell_type": "code",
   "source": [
    "# Haal van index 2 tot en met 10 elke tweede rij (dus steeds eentje overslaan)\n",
    "df.loc[2:10:2]"
   ],
   "metadata": {
    "id": "xo5XU4hnjbkh"
   },
   "execution_count": null,
   "outputs": []
  },
  {
   "cell_type": "markdown",
   "source": [
    "# Opdracht: Queryen met index\n",
    "Haal van rijnummer 2 tot en met 10 elke derde rij op (dus steeds twee rijen overslaan)"
   ],
   "metadata": {
    "id": "sWYeOjzCoKwk"
   }
  },
  {
   "cell_type": "code",
   "source": [
    "# df.loc[<INVULLEN>] # Uncomment deze regel"
   ],
   "metadata": {
    "id": "6uAt_9xHj_hY"
   },
   "execution_count": null,
   "outputs": []
  },
  {
   "cell_type": "markdown",
   "source": [
    "# Antwoord: Queryen met index"
   ],
   "metadata": {
    "id": "nzZffBURkGlM"
   }
  },
  {
   "cell_type": "code",
   "source": [
    "#@title\n",
    "df.loc[2:10:3]"
   ],
   "metadata": {
    "id": "8ShlUwxEoYfB",
    "cellView": "form"
   },
   "execution_count": null,
   "outputs": []
  },
  {
   "cell_type": "markdown",
   "source": [
    "Queryen op index is leuk, maar praktischer is om dit op bepaalde kolomwaarden te doen. In Pandas doe je dit meestal in twee stappen. Eerst stel je een query op, waarbij Pandas voor elke rij uitzoekt of deze aan de query voldoet. Pandas geeft hierbij een Series terug met Booleans (True/False). Vervolgens haal je die rijen daadwerkelijk op."
   ],
   "metadata": {
    "id": "ywpSxDjwphjF"
   }
  },
  {
   "cell_type": "code",
   "source": [
    "# query bevat een tabel met rijnummers en of een rij aan de query voldoet (True of False)\n",
    "query = df['kind'] == 'rest'\n",
    "query"
   ],
   "metadata": {
    "id": "kAveE6YsrLwe"
   },
   "execution_count": null,
   "outputs": []
  },
  {
   "cell_type": "code",
   "source": [
    "# Zoek de rijen op die aan de query voldoen. Dit geeft een Dataframe terug (waarvan je iedere kolom als een Series zou kunnen zien)\n",
    "df_query = df.loc[query]\n",
    "df_query.head()\n"
   ],
   "metadata": {
    "id": "jHjMEpRFrLaM"
   },
   "execution_count": null,
   "outputs": []
  },
  {
   "cell_type": "markdown",
   "source": [
    "We beginnen nu met data cleaning. Dit is een overkoepelende term voor het corrigeren van ongewenste of foute data."
   ],
   "metadata": {
    "id": "9wCeKVRY8xrt"
   }
  },
  {
   "cell_type": "markdown",
   "source": [
    "Sommige data hebben ongeldige waardes. In de Dataframe zie je dan een NaN (Not a Number) en kun je wegfilteren met de `dropna` functie. Wij verwijderen in deze module rijen met NaNs. Maar normaliter, kan je in de praktijk de NaN bijvoorbeeld vervangen met de gemiddelde waarde uit die kolom. Dan hoef je niet de hele rij te verwijderen en dus meer data nuttig gebruiken."
   ],
   "metadata": {
    "id": "lF5hL3a1VSvy"
   }
  },
  {
   "cell_type": "code",
   "source": [
    "df_nan = df.dropna()"
   ],
   "metadata": {
    "id": "TZX58b0GmHOn"
   },
   "execution_count": null,
   "outputs": []
  },
  {
   "cell_type": "markdown",
   "source": [
    "We vervolgen de data cleaning door kolommen een betere naam te geven"
   ],
   "metadata": {
    "id": "zkb7oM2lYxx-"
   }
  },
  {
   "cell_type": "code",
   "source": [
    "# We veranderen de kolomnaam 'time' naar 'minutes', aangezien dit niet echt een tijd geeft\n",
    "# maar een aantal minuten\n",
    "df_clean = df_nan.rename(columns={'time': 'minutes'})"
   ],
   "metadata": {
    "id": "VYfHYtVoLoB3"
   },
   "execution_count": null,
   "outputs": []
  },
  {
   "cell_type": "markdown",
   "source": [
    "We zien hieronder dat deze kolom strings bevat, maar in dit specifieke geval zouden integers efficienter zijn en ook makkelijker om later te manipuleren/berekeningen op te doen."
   ],
   "metadata": {
    "id": "nvWZ_amaBWUu"
   }
  },
  {
   "cell_type": "code",
   "source": [
    "# De kolom met aantal minuten bevat tekst/een string:\n",
    "df_clean['minutes'].head()\n"
   ],
   "metadata": {
    "id": "voYOC4DKlvYA"
   },
   "execution_count": null,
   "outputs": []
  },
  {
   "cell_type": "markdown",
   "source": [
    "# Opdracht: De apply functie"
   ],
   "metadata": {
    "id": "h5BS6z1OC00T"
   }
  },
  {
   "cell_type": "markdown",
   "source": [
    "Om de strings naar integers om te zetten moeten we in de kolomwaardes het gedeelte met getallen behouden en de onnodige 'min' tekst verwijderen.\n",
    "Maak een functie genaamd `verwijder_min` die een string aanneemt en de laatste 4 karakters verwijderd."
   ],
   "metadata": {
    "id": "oPM2mFhneNZk"
   }
  },
  {
   "cell_type": "code",
   "source": [
    "# def verwijder_min(<INVULLEN>): #Uncomment deze regel\n",
    "    # Verwijder de laatste 4 karakters van de string \n",
    "    # en sla deze op in de variabele 'minuten'\n",
    "    # minuten = <INVULLEN> # Uncomment deze regel\n",
    "#   return <INVULLEN> # Uncomment deze regel"
   ],
   "metadata": {
    "id": "BbPWCck741eA"
   },
   "execution_count": null,
   "outputs": []
  },
  {
   "cell_type": "markdown",
   "source": [
    "# Antwoord: De apply functie"
   ],
   "metadata": {
    "id": "y-VS5UO15iSc"
   }
  },
  {
   "cell_type": "code",
   "source": [
    "#@title\n",
    "def verwijder_min(tekst): \n",
    "    # Verwijder de laatste 4 karakters van de string \n",
    "    # en sla deze op in de variabele 'minuten'\n",
    "    minuten = tekst[:-4]\n",
    "    return minuten"
   ],
   "metadata": {
    "id": "Vr7M79nkeHlR",
    "cellView": "form"
   },
   "execution_count": null,
   "outputs": []
  },
  {
   "cell_type": "markdown",
   "source": [
    "Voorheen zagen we dat for loops iteratief elementen uit een lijst kunnen gebruiken/bewerken.\n",
    "In pandas kunnen we soortgelijk een functie toepassen op elke rij door middel van de `apply` functie. We gebruiken nu deze functie om de `verwijder_min` functie op elke rij toe te passen."
   ],
   "metadata": {
    "id": "W5xBYR4get4N"
   }
  },
  {
   "cell_type": "code",
   "source": [
    "df_clean['minutes_int'] = df_clean['minutes'].apply(verwijder_min)\n",
    "\n",
    "df_clean['minutes_int']"
   ],
   "metadata": {
    "id": "oTK6AjvPea07"
   },
   "execution_count": null,
   "outputs": []
  },
  {
   "cell_type": "markdown",
   "source": [
    "Nu we de tekst hebben verwijderd kunnen we aan pandas aangeven dat deze kolom enkel uit integers bestaat. Deze omzetting doe je door de functie `astype` toe te passen met als argument `int`. Pas nu deze omzetting toe."
   ],
   "metadata": {
    "id": "s5kOnZ6NfosQ"
   }
  },
  {
   "cell_type": "markdown",
   "source": [
    "# Opdracht: String naar integer"
   ],
   "metadata": {
    "id": "KVs4uwHE6fTf"
   }
  },
  {
   "cell_type": "code",
   "source": [
    "# Zet  'minutes' kolom om tot int\n",
    "# df_clean['minutes'] = df_clean['minutes'].astype(<INVULLEN) # Uncomment deze regel\n",
    "\n",
    "# df_clean['minutes'] # Uncomment deze regel"
   ],
   "metadata": {
    "id": "X1TVgaFDhN43"
   },
   "execution_count": null,
   "outputs": []
  },
  {
   "cell_type": "markdown",
   "source": [
    "# Antwoord: String naar integer"
   ],
   "metadata": {
    "id": "pU5C-R0V71gG"
   }
  },
  {
   "cell_type": "code",
   "source": [
    "#@title\n",
    "# Zet 'minutes' kolom om tot int\n",
    "df_clean['minutes_int'] = df_clean['minutes_int'].astype('int')\n",
    "\n",
    "df_clean['minutes_int']"
   ],
   "metadata": {
    "id": "4lQJNDtJfkC0",
    "cellView": "form"
   },
   "execution_count": null,
   "outputs": []
  },
  {
   "cell_type": "markdown",
   "source": [
    "Nu de data (een beetje) schoon is, kunnen we beginnen met data analyse. Hiervoor gebruiken we hieronder de `groupby`, `pivot_table` en `heatmap` functie.\n",
    "\n"
   ],
   "metadata": {
    "id": "m4Ixi4PW8KIR"
   }
  },
  {
   "cell_type": "code",
   "source": [
    "\n",
    "# Met de 'groupby' functie kan je data groeperen op unieke waardes in een kolom en vervolgens met de 'agg' (aggregatie) functie\n",
    "# statistieken uit halen. Hieronder groeperen we op de twee unieke waardes no fat and low fat uit de kolom diet. Vervolgens berekenen\n",
    "# we de gemiddelde pulse en minutes voor die unieke groepen.\n",
    "df_clean.groupby(by='diet').agg({'pulse': 'mean', 'minutes_int': 'mean'})"
   ],
   "metadata": {
    "id": "PSihJSoEmLkn"
   },
   "execution_count": null,
   "outputs": []
  },
  {
   "cell_type": "code",
   "source": [
    "# De pivot table functie is uitzonderlijk krachtig om overzichtelijker naar data te kijken\n",
    "df_pivot = pd.pivot_table(df_clean, index='minutes_int', columns='kind', values='pulse')\n",
    "\n",
    "df_pivot"
   ],
   "metadata": {
    "id": "1lws_oOjmBi-"
   },
   "execution_count": null,
   "outputs": []
  },
  {
   "cell_type": "code",
   "source": [
    "sns.heatmap(df_pivot, cbar_kws={'label': 'Pulse'})"
   ],
   "metadata": {
    "id": "TWdPZm4c58QB",
    "collapsed": true
   },
   "execution_count": null,
   "outputs": []
  },
  {
   "cell_type": "markdown",
   "source": [
    "Nu gaan we een soortgelijke pivot table maken over alle personen (kolom 'id')."
   ],
   "metadata": {
    "id": "3YULufxt7kMN"
   }
  },
  {
   "cell_type": "markdown",
   "source": [
    "# Opdracht: Query 'running'\n",
    "We beperken ons tot rennen. Selecteer de rijen die hiermee corresponderen.\n"
   ],
   "metadata": {
    "id": "eGmi9Gqd7xc8"
   }
  },
  {
   "cell_type": "code",
   "source": [
    "# Selecteer van de kolom 'kind' alleen de rijen die corresponderen met 'running'\n",
    "# query = df_clean[<INVULLEN>] == <INVULLEN> # Uncomment deze regel\n",
    "# df_clean_running = df_clean[query] # Uncomment deze regel\n",
    "\n",
    "# df_clean_running = df_clean[df_clean['kind'] == 'running']\n"
   ],
   "metadata": {
    "id": "abp0fqPy6viC"
   },
   "execution_count": null,
   "outputs": []
  },
  {
   "cell_type": "markdown",
   "source": [
    "# Antwoord: Query 'running'"
   ],
   "metadata": {
    "id": "W_HY0SRM-e1L"
   }
  },
  {
   "cell_type": "code",
   "source": [
    "#@title\n",
    "# Selecteer van de kolom 'kind' alleen de rijen die corresponderen met 'running'\n",
    "query = df_clean['kind'] == 'running'\n",
    "df_clean_running = df_clean[query]"
   ],
   "metadata": {
    "cellView": "form",
    "id": "KIdcBeUm-hY2"
   },
   "execution_count": null,
   "outputs": []
  },
  {
   "cell_type": "markdown",
   "source": [
    "# Opdracht: Pivot IDs\n",
    "Gebruik zoals je hierboven ziet een pivot table om het aantal minuten (kolom *minuten*) en IDs (kolom *id*) als assen (index en columns) te gebruiken met de *pulse* als waarde (values).\n",
    "\n"
   ],
   "metadata": {
    "id": "Ic_pIF-e_Ago"
   }
  },
  {
   "cell_type": "code",
   "source": [
    "# Pivot table over 'minuten' en 'id' kolom met als waarde 'puls\n",
    "# df_pivot_ids = pd.pivot_table(df_clean_running, index=<INVULLEN>, columns=<INVULLEN>, values=<INVULLEN>) # Uncomment deze regel\n",
    "\n",
    "# Visualiseer pivot table met een heatmap\n",
    "# sns.heatmap(<INVULLEN>) # Uncomment deze regel"
   ],
   "metadata": {
    "id": "J-Eyr9Nw7Iva"
   },
   "execution_count": null,
   "outputs": []
  },
  {
   "cell_type": "markdown",
   "source": [
    "# Antwoord: Pivot IDs"
   ],
   "metadata": {
    "id": "Wf97JpU7AaQY"
   }
  },
  {
   "cell_type": "code",
   "source": [
    "#@title\n",
    "# Pivot table over 'minuten' en 'id' kolom met als waarde 'pulse'\n",
    "df_pivot_ids = pd.pivot_table(df_clean_running, index='minutes_int', columns='id', values='pulse')\n",
    "\n",
    "# Visualiseer pivot table met een heatmap\n",
    "sns.heatmap(df_pivot_ids, cbar_kws={'label': 'Pulse'})"
   ],
   "metadata": {
    "id": "CauaKVZEActV"
   },
   "execution_count": null,
   "outputs": []
  },
  {
   "cell_type": "markdown",
   "source": [
    "De `groupby` functie is in veel andere Pandas functies ingebakken, zoals de `hist` functie, waarmee je een histogram kan maken.\n",
    "\n"
   ],
   "metadata": {
    "id": "pooiLFdT1Y9x"
   }
  },
  {
   "cell_type": "code",
   "source": [
    "df_clean['pulse'].hist(by=df_clean['diet']) # Dit plot pulse op x-as"
   ],
   "metadata": {
    "id": "kc2OEyb7z_lS"
   },
   "execution_count": null,
   "outputs": []
  },
  {
   "cell_type": "markdown",
   "source": [
    "# Opdracht: Histogram per activiteit\n",
    "Gebruik zoals hierboven de hist functie om voor elke unieke waarde van de kolom \n",
    "`kind` een histogram van de `pulse` waardes te maken. Wat valt op? Vind je dit logisch?"
   ],
   "metadata": {
    "id": "LYNd_3jwCNUg"
   }
  },
  {
   "cell_type": "code",
   "source": [
    "# Histogram voor elke unieke waarde in de kolom 'kind'\n",
    "# df_clean['pulse'].hist(by=<INVULLEN>) # Uncomment deze regel"
   ],
   "metadata": {
    "id": "_ICVIPk0Ca_u"
   },
   "execution_count": null,
   "outputs": []
  },
  {
   "cell_type": "markdown",
   "source": [
    "# Antwoord: Histogram per activiteit"
   ],
   "metadata": {
    "id": "DEsT060BCqb9"
   }
  },
  {
   "cell_type": "code",
   "source": [
    "#@title\n",
    "# Histogram voor elke unieke waarde in de kolom 'kind'\n",
    "df_clean['pulse'].hist(by=df_clean['kind']) # Dit plot pulse op x-as\n",
    "\n",
    "# Wat valt op? Vind je dit logisch?\n",
    "# Voor de waarde 'rest' komen lagere hartslagen voor dan 'walking' en 'running'\n",
    "# Ik vind dat zelf wel logisch :)"
   ],
   "metadata": {
    "id": "muRk1R7X2mF-",
    "cellView": "form"
   },
   "execution_count": null,
   "outputs": []
  },
  {
   "cell_type": "code",
   "execution_count": null,
   "outputs": [],
   "source": [],
   "metadata": {
    "collapsed": false
   }
  }
 ]
}
