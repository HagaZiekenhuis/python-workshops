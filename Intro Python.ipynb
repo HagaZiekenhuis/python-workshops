{
 "nbformat": 4,
 "nbformat_minor": 0,
 "metadata": {
  "colab": {
   "provenance": [
    {
     "file_id": "1NfLGjC8WAh_YSVBJnuFW1NHvvRUD-ltJ",
     "timestamp": 1677745983745
    }
   ]
  },
  "kernelspec": {
   "name": "python3",
   "language": "python",
   "display_name": "Python 3 (ipykernel)"
  },
  "language_info": {
   "name": "python"
  }
 },
 "cells": [
  {
   "cell_type": "markdown",
   "source": [
    "**Er zijn verschillende voordelen van het gebruik van de programmeertaal Python:**\n",
    "\n",
    "1: **Leesbaarheid:** Python heeft een zeer leesbare en begrijpelijke syntaxis, wat het gemakkelijker maakt om code te schrijven en te onderhouden.\n",
    "\n",
    "2: **Schaalbaarheid:** Python is een zeer schaalbare taal en kan worden gebruikt voor kleine en grote projecten. Het is ook geschikt voor het ontwikkelen van webapplicaties, desktop-applicaties, mobiele apps en meer.\n",
    "\n",
    "3: **Talrijke bibliotheken:** Python heeft een rijk aanbod aan standaardbibliotheken, wat het gemakkelijker maakt om specifieke taken te voltooien zonder dat je alles vanaf scratch hoeft te bouwen.\n",
    "\n",
    "4: **Community support:** Python heeft een actieve en groeiende gebruikersgemeenschap, wat betekent dat er altijd hulp beschikbaar is als je hulp nodig hebt bij het oplossen van problemen of het leren van de taal.\n",
    "\n",
    "5: **Verscheidenheid aan toepassingen:** Python wordt gebruikt in een breed scala aan toepassingen, waaronder wetenschappelijk onderzoek, data-analyse, machine learning, internet of things en meer.\n",
    "\n",
    "6: **Gemakkelijk te leren:** Python is een relatief eenvoudige taal om te leren, vooral als je al bekend bent met andere programmeertalen. Dit maakt het gemakkelijk voor beginners om snel op gang te komen met het schrijven van code."
   ],
   "metadata": {
    "id": "Q03xPUHl-kwK"
   }
  },
  {
   "cell_type": "markdown",
   "source": [
    "Python bevat als programmeertaal veel (ingebouwde) tools om programma's te schrijven. Zo'n tool zie je vaak terug als een zogeheten *functie*: Een stuk Python code die operaties toepast op je data en de resulterende uitvoer teruggeeft aan jou als gebruiker. \n",
    "\n",
    "In Python zijn *modules* bestandjes (met de .py extensie) die je kan inladen (importeren) in je Python programma. Deze modules bestaan uit een collectie gerelateerde functies.\n",
    "\n",
    "Python heeft zelf ook een aantal modules ingebouwd, maar die zijn niet standaard ingeladen. Dit kan je doen met de `import` commando. \n",
    "\n",
    "# Instructies\n",
    "Laten we beginnen met Python code uitvoeren. Hieronder demonstreren we het importeren van de module `this`, die een gedicht over Python op het scherm weergeeft.\n",
    "\n",
    "Deze code voer je uit door met je muis over een cell te gaan (tekst met grijze achtergrond) en vervolgens op de run knop te drukken (zwart circkeltje met pijl).\n",
    "\n",
    "Later in de module zul je opdrachten tegenkomen. Hiervoor is al een stukje code geschreven en jij moet deze code aanvullen op plekken waar je de tekst `<INVULLEN>` ziet staan. Geen zorgen, later wordt dit duidelijk.\n",
    "   "
   ],
   "metadata": {
    "id": "XEoPfmY3Y34l"
   }
  },
  {
   "cell_type": "code",
   "source": [
    "import this"
   ],
   "metadata": {
    "id": "dp1gvVcppTEM"
   },
   "execution_count": null,
   "outputs": []
  },
  {
   "cell_type": "markdown",
   "source": [],
   "metadata": {
    "id": "L65aqyvd9Xpt"
   }
  },
  {
   "cell_type": "markdown",
   "source": [
    "Een *variabele* is een klein stukje opslag met een naam, die een waarde kan bevatten.\n",
    "Deze waarde kan van alles zijn. Een stukje tekst (string), decimaal getal (float) en nog veel meer. Hieronder maken we twee variabelen aan."
   ],
   "metadata": {
    "id": "n-_6FrkZIq5G"
   }
  },
  {
   "cell_type": "code",
   "source": [
    "tekst = 'Hello, World.' # Dit is een string\n",
    "decimaal_getal = 3    # Dit is een int"
   ],
   "metadata": {
    "id": "-zj99Zz19s2l"
   },
   "execution_count": null,
   "outputs": []
  },
  {
   "cell_type": "markdown",
   "source": [
    "Vaak wil je informatie (in variabelen) op een scherm weergeven tijdens het uitvoeren van je Python programma. Hiervoor gebruik je de `print` functie"
   ],
   "metadata": {
    "id": "SD2KtezxOujL"
   }
  },
  {
   "cell_type": "code",
   "source": [
    "print(tekst)"
   ],
   "metadata": {
    "id": "esXU4cffPNZz"
   },
   "execution_count": null,
   "outputs": []
  },
  {
   "cell_type": "markdown",
   "source": [
    "Zoals je hierboven kan zien zijn functies te herkennen aan ronde haakjes. Tussen die haakjes geef je dan de invoer mee. Binnen de functie wordt dit dan verwerkt en vervolgens aan de gebruiker als uitvoer meegegeven."
   ],
   "metadata": {
    "id": "CiwlN8WAeOJ_"
   }
  },
  {
   "cell_type": "markdown",
   "source": [
    "Je kan variabelen combineren in de `print` functie door ze te scheiden met comma's.\n",
    "\n"
   ],
   "metadata": {
    "id": "npc2kse0Iy1g"
   }
  },
  {
   "cell_type": "code",
   "source": [
    "naam = 'Jan'\n",
    "bericht = 'Hallo'\n",
    "tweede_bericht = 'mijn favoriete getal is:'"
   ],
   "metadata": {
    "id": "fr3xr_189w-N"
   },
   "execution_count": null,
   "outputs": []
  },
  {
   "cell_type": "code",
   "source": [
    "print(bericht, naam)\n",
    "print(tweede_bericht, decimaal_getal)"
   ],
   "metadata": {
    "id": "S54Ji0tS9zi8"
   },
   "execution_count": null,
   "outputs": []
  },
  {
   "cell_type": "markdown",
   "source": [
    "Naast informatie op een scherm weergeven (uitvoer) kan je ook invoer vragen van een gebruiker en dit in een variabele stoppen:"
   ],
   "metadata": {
    "id": "YVRH3eEns8DX"
   }
  },
  {
   "cell_type": "code",
   "source": [
    "print(\"Wat is uw naam: \")\n",
    "naam = input()\n",
    "print(\"Hallo,\", naam)"
   ],
   "metadata": {
    "id": "UVNhfbTAsrG_"
   },
   "execution_count": null,
   "outputs": []
  },
  {
   "cell_type": "code",
   "source": [
    "# Een comment (commentaar) begint altijd met een hekje >> neem die ALTIJD op, ook bij de simpelste programma's die je schrijft\n",
    "# Comments worden verder niet door Python verwerkt en zijn enkel nuttig om jezelf en andere gebruikers uit te leggen waar een stukje code voor dient."
   ],
   "metadata": {
    "id": "fk64cnIV92ne"
   },
   "execution_count": null,
   "outputs": []
  },
  {
   "cell_type": "markdown",
   "source": [
    "In het voorbeeld hierboven zie je een uitgeschreven string (`\"hallo,\"`) die we vervolgens vastplakken aan een string die in de variabele (`naam`) zit. Over het algemeen is het makkelijker om hiervoor *f-strings* te gebruiken. \n",
    "\n",
    "Dit is een manier om uitgeschreven strings makkelijk te mixen met variabelen. F-strings beginnen altijd met een f, gevolgd door de string. Variabelen binnen de string zet je tussen accolades. Hieronder een demonstratie:   "
   ],
   "metadata": {
    "id": "Txs1rRE2e-1b"
   }
  },
  {
   "cell_type": "code",
   "source": [
    "# Vraag naam van gebruiker \n",
    "naam = input(\"Wat is uw naam: \")\n",
    "\n",
    "# Demonstreer f-strings in python \n",
    "print(f'Hallo, {naam}.')\n",
    "print()\n",
    "print('f-strings maken het weergeven van tekst gemixt met variabelen, makkelijker')"
   ],
   "metadata": {
    "id": "WM1d45Gv96rU"
   },
   "execution_count": null,
   "outputs": []
  },
  {
   "cell_type": "markdown",
   "source": [
    "# Instructies herinnering\n",
    "\n",
    "Zoals in de inleiding was genoemd, krijg je hieronder je eerste opdracht. Er is al een klein opzetje gemaakt. Jij moet waar nodig (waar je de tekst `<INVULLEN>` ziet staan), de code aanvullen. Bij elke regel waar code moet worden toegevoegd, moet je wel aan het begin het hekje (#) weghalen. Anders wordt die regel als comment geïnterpreteerd door Python."
   ],
   "metadata": {
    "id": "2NhBZlHV_9DW"
   }
  },
  {
   "cell_type": "markdown",
   "source": [
    "# Opdracht: Ingevoerde naam printen \n",
    "Schrijf een stukje code waarbij de gebruiker zijn/haar naam invoert. \n",
    "Print die naam vervolgens uit in een welkomstzin naar keuze.\n",
    "Sluit het programma ten slotte af met: \"Dank je wel `naam`, tot de volgende keer.\""
   ],
   "metadata": {
    "id": "Ucr8sOo7-fBL"
   }
  },
  {
   "cell_type": "code",
   "source": [
    "# naam van de gebruiker vragen:\n",
    "# naam = <INVULLEN> # Uncomment deze regel\n",
    "\n",
    "# welkomst zin nu met naam printen:\n",
    "# print(<INVULLEN>) # Uncomment deze regel\n",
    "\n",
    "# Sluit programma af:\n",
    "# print(<INVULLEN>) # Uncomment deze regel"
   ],
   "metadata": {
    "id": "YwiLLEJC-_X-"
   },
   "execution_count": null,
   "outputs": []
  },
  {
   "cell_type": "markdown",
   "source": [
    "# Antwoord: Ingevoerde naam printen"
   ],
   "metadata": {
    "id": "wP-dz-aJieYw"
   }
  },
  {
   "cell_type": "code",
   "source": [
    "#@title\n",
    "# naam van de gebruiker vragen:\n",
    "naam = input(\"Wat is uw naam?\")\n",
    "\n",
    "# welkomstzin nu met naam printen:\n",
    "print(f\"Welkom, {naam}.\")\n",
    "\n",
    "# Sluit programma af:\n",
    "print(f\"Tot ziens {naam}, tot de volgende keer.\")"
   ],
   "metadata": {
    "cellView": "form",
    "collapsed": true,
    "id": "ziPOUA6XFrUb"
   },
   "execution_count": null,
   "outputs": []
  },
  {
   "cell_type": "markdown",
   "source": [
    "Stel dat je een heleboel mensen hebt die je welkom wilt heten? Je kan hierbij gebruik maken van een *list*. Dit is zoals de naam doet vermoeden een lijst om op een compacte manier teksten, getallen enz. te groeperen. Elk element uit een list kan je aanroepen met vierkante haakjes en de positie van het element."
   ],
   "metadata": {
    "id": "XgHhlNVFFf20"
   }
  },
  {
   "cell_type": "code",
   "source": [
    "naam_list = ['Jan', 'Koert', 'Arman', 'Joris', 'Ivo']"
   ],
   "metadata": {
    "id": "Flhmsk64JaCq"
   },
   "execution_count": null,
   "outputs": []
  },
  {
   "cell_type": "code",
   "source": [
    "# Print alle namen in een list een voor een uit.\n",
    "print(f'Hallo, {naam_list[0]}.')\n",
    "print(f'Hallo, {naam_list[1]}.')\n",
    "print(f'Hallo, {naam_list[2]}.')\n",
    "print(f'Hallo, {naam_list[3]}.')\n",
    "print(f'Hallo, {naam_list[4]}.')\n",
    "\n",
    "print()\n",
    "print('Dit is een simpel voorbeeld. Maar zo zou je ook de opdracht kunnen geven tot het versturen van mails aan allerlei mensen')\n",
    "print('De uitvoeringscode blijft altijd gelijk, alleen de lijst met namen kan wijzigen. Ergo: compute/ uitvoering is gescheiden van de data!!')"
   ],
   "metadata": {
    "id": "2MtfJ5PrJnNQ"
   },
   "execution_count": null,
   "outputs": []
  },
  {
   "cell_type": "markdown",
   "source": [
    "Je ziet hierboven dat er wel erg veel code wordt herhaald. En met meer namen wordt het onmogelijk om dit keurig uit te voeren. Gelukkig is dit te automatiseren met een `for` loop. Hiermee kunnen we langs elk element in een list, ongeacht hoe groot deze is."
   ],
   "metadata": {
    "id": "bk5wlFtAHeDp"
   }
  },
  {
   "cell_type": "code",
   "source": [
    "# Voor elk element (naam) in de list (naam_list)\n",
    "for naam in naam_list:\n",
    "  # Voer dit uit voor elk element (naam)\n",
    "  print(f'Hallo, {naam}.')\n",
    "\n",
    "print()\n",
    "print('Dit is een simpel voorbeeld. Maar zo zou je ook de opdracht kunnen geven tot het versturen van mails aan allerlei mensen')\n",
    "print('De uitvoeringscode blijft altijd gelijk, alleen de lijst met namen kan wijzigen. Ergo: compute/ uitvoering is gescheiden van de data!!')"
   ],
   "metadata": {
    "id": "pC3AzFaiLDgB"
   },
   "execution_count": null,
   "outputs": []
  },
  {
   "cell_type": "markdown",
   "source": [
    "Stukken tekst (strings) in Python zijn trouwens eigenlijk lists bestaande uit individuele karakters!!! Elk karakter uit de string kan je aanroepen door het nummer van de positie te gebruiken:"
   ],
   "metadata": {
    "id": "XY9tQXSog7cf"
   }
  },
  {
   "cell_type": "code",
   "source": [
    "tekst = \"Hallo!\"\n",
    "\n",
    "# Print elk karakter uit de string:\n",
    "print(tekst[0])\n",
    "print(tekst[1])\n",
    "print(tekst[2])\n",
    "print(tekst[3])\n",
    "print(tekst[4])\n",
    "\n",
    "# Of met een for loop zoals we eerder zagen\n",
    "print()\n",
    "print(\"Hetzelfde met een for loop:\")\n",
    "for karakter in tekst:\n",
    "  print(karakter)"
   ],
   "metadata": {
    "colab": {
     "base_uri": "https://localhost:8080/"
    },
    "id": "6D6PkqpwhUdw",
    "executionInfo": {
     "status": "ok",
     "timestamp": 1678015735699,
     "user_tz": -60,
     "elapsed": 254,
     "user": {
      "displayName": "Arman Naseri",
      "userId": "14205159005621438274"
     }
    },
    "outputId": "e7f2cc28-8bb3-4a19-8a94-d15c451f8fef"
   },
   "execution_count": null,
   "outputs": []
  },
  {
   "cell_type": "raw",
   "source": [
    "We kunnen ook alleen een gedeelte van de elementen bekijken met vierkante haakjes"
   ],
   "metadata": {
    "collapsed": false
   }
  },
  {
   "cell_type": "code",
   "execution_count": null,
   "outputs": [],
   "source": [
    "# Bekijk de tweede tot vijfde karakter. Let op dat we tellen vanaf 0, dus element 0 is de eerste karakter, element 1 de tweede etc. \n",
    "print(tekst[1:5])"
   ],
   "metadata": {
    "collapsed": false
   }
  },
  {
   "cell_type": "markdown",
   "source": [
    "# Opdracht: tekst inkorten\n",
    "Hieronder staan een aantal fictieve patientendossiers. Print in een for loop alleen het patientennummer, zonder onnodige tekst eromheen"
   ],
   "metadata": {
    "collapsed": false
   }
  },
  {
   "cell_type": "code",
   "execution_count": null,
   "outputs": [],
   "source": [
    "# Patienten staan al gedefinieerd hieronder\n",
    "patienten = ['patient_1190.xlsx', 'patient_2531.xlsx', 'patient_2775.xlsx', 'patient_1555.xlsx']\n",
    "# Definieer het start- en eindkarakter waar het patiëntennummer begint en eindigt.\n",
    "# start = <INVULLEN> # Uncomment deze regel\n",
    "# eind = <INVULLEN> # Uncomment deze regel \n",
    "\n",
    "# Begin hier met itereren/loopen over de patienten\n",
    "# for <INVULLEN> in <INVULLEN>: # Uncomment deze regel\n",
    "    # print voor elke patient het patientennummer\n",
    "    # print(<INVULLEN>[start:eind]) # Uncomment deze regel"
   ],
   "metadata": {
    "collapsed": false
   }
  },
  {
   "cell_type": "markdown",
   "source": [
    "# Antwoord: tekst inkorten\n"
   ],
   "metadata": {
    "collapsed": false
   }
  },
  {
   "cell_type": "code",
   "execution_count": null,
   "outputs": [],
   "source": [
    "# Patienten staan al gedefinieerd hieronder\n",
    "patienten = ['patient_1190.xlsx', 'patient_2531.xlsx', 'patient_2775.xlsx', 'patient_1555.xlsx']\n",
    "# Definieer het start- en eindkarakter waar het patiëntennummer begint en eindigt.\n",
    "start = 8\n",
    "eind = 12\n",
    "\n",
    "# Begin hier met itereren/loopen over de patienten\n",
    "for patient in patienten:\n",
    "    # print voor elke patient het patientennummer\n",
    "    print(patient[start:eind])"
   ],
   "metadata": {
    "collapsed": false
   }
  },
  {
   "cell_type": "markdown",
   "source": [
    "Tot nu toe hebben we alles gedemonstreerd met strings. Natuurlijk geldt al het bovenstaande ook voor getallen."
   ],
   "metadata": {
    "id": "NJr03ZGCLiFN"
   }
  },
  {
   "cell_type": "code",
   "source": [
    "4 + 6"
   ],
   "metadata": {
    "id": "rLy7koVw_Hn8"
   },
   "execution_count": null,
   "outputs": []
  },
  {
   "cell_type": "code",
   "source": [
    "x = 4\n",
    "y = 5\n",
    "result = x + y\n",
    "print(result)"
   ],
   "metadata": {
    "id": "ZoGJWJBy_4lV"
   },
   "execution_count": null,
   "outputs": []
  },
  {
   "cell_type": "code",
   "source": [
    "# dit programma telt twee getallen op door de gebruiker ingevoerd.\n",
    "\n",
    "print('Welkom. De door jou ingevoerde getallen worden in dit programma opgeteld.')\n",
    "print()\n",
    "x = input('geef het eerste getal op: ')\n",
    "y = input('geef het tweede getal op: ')\n",
    "result = x + y\n",
    "print(f'Het resultaat van x + y is {result}.')\n",
    "print()\n",
    "print('Oeps, klopt dit wel? Wat is hier aan de hand?')"
   ],
   "metadata": {
    "id": "J2MRZWl0__O7"
   },
   "execution_count": null,
   "outputs": []
  },
  {
   "cell_type": "markdown",
   "source": [
    "Klopt bovenstaande resultaat wel? Zo niet, moeten we de bron van de fout achterhalen en corrigeren. Dit heet debugging/debuggen.\n",
    "We verwachten een getal en controleren daarom of we dit ook echt krijgen door de datatype te inspecteren."
   ],
   "metadata": {
    "id": "2otmuhNcOr4h"
   }
  },
  {
   "cell_type": "code",
   "source": [
    "type(result)"
   ],
   "metadata": {
    "id": "gAQHU1gDAfGk"
   },
   "execution_count": null,
   "outputs": []
  },
  {
   "cell_type": "markdown",
   "source": [
    "Je kan makkelijk van de ene datatype naar de andere gaan. Om naar een int te converteren gebruik je simpelweg de `int` functie.\n",
    "\n"
   ],
   "metadata": {
    "id": "3OAOKLAyQouF"
   }
  },
  {
   "cell_type": "code",
   "source": [
    "x = int(input('geef het eerste getal op: '))\n",
    "y = int(input('geef het tweede getal op: '))\n",
    "result = x + y\n",
    "print(f'Het resultaat van x + y is {result} en heeft als datatype {type(result)}.')"
   ],
   "metadata": {
    "id": "lncJYJERApD9"
   },
   "execution_count": null,
   "outputs": []
  },
  {
   "cell_type": "markdown",
   "source": [
    "We hebben al wat ingebouwde Python functies gebruikt zoals `print`, `type`, `input` en `int`.\n",
    "\n",
    "Maar we kunnen/moeten ook onze eigen functies maken. Kortgezegd maak je als volgt een functie:\n",
    "\n",
    "- Je begint altijd met definiëren wat een functie precies moet doen. Deze functiedefinitie begin je met de commando `def`, gevolgd door de naam van de functie.\n",
    "\n",
    "- Vervolgens geef je tussen ronde haakjes aan wat voor invoer deze functie aanneemt, de namen van deze invoer mag je zelf weten.\n",
    "\n",
    "- Tot slot geef je de, door de functie verwerkte, data als uitvoer terug met de `return` commando.\n",
    "\n",
    "Als demonstratie gebruiken we de code om twee getallen bij elkaar op te tellen van hierboven. Dit stoppen we in een functie en roepen we meerdere keren aan:"
   ],
   "metadata": {
    "id": "uDz64rxNjoEV"
   }
  },
  {
   "cell_type": "code",
   "source": [
    "# x en y zijn samen de invoer van de functie genaamd optellen\n",
    "def optellen(x, y):\n",
    "  # dit programma telt twee getallen op door de gebruiker ingevoerd.\n",
    "  result = int(x) + int(y)\n",
    "  print(f'Het resultaat van {x} + {y} is {result}.')\n",
    "  # Het resultaat kunnen we als uitvoer teruggeven door middel van de return commando\n",
    "  return result\n",
    "\n",
    "print()\n",
    "print('Welkom. De door jou ingevoerde getallen worden in dit programma opgeteld.')\n",
    "print()\n",
    "som1 = optellen(2, 3)\n",
    "som2 = optellen(4, 5)\n",
    "som3 = optellen(42, 24)"
   ],
   "metadata": {
    "id": "qxdWCQzfZ_l2"
   },
   "execution_count": null,
   "outputs": []
  },
  {
   "cell_type": "markdown",
   "source": [
    "Hierboven hebben we optellen bekeken, maar Python heeft veel meer functies om verschillende berekeningen te doen. Sommigen zitten wel in de module `math`:"
   ],
   "metadata": {
    "id": "757Gt4DkiE9A"
   }
  },
  {
   "cell_type": "code",
   "source": [
    "import math\n",
    "x = int(input(\"Eerste getal: \"))\n",
    "y = int(input(\"Tweede getal: \"))\n",
    "print(f\"Vermenigvuldigen: {x * y}\")\n",
    "print(f\"Delen: {x / y}\")\n",
    "print(f\"Machtsverheffen: {pow(x,y)}\")"
   ],
   "metadata": {
    "id": "ZR1KPPxph-r4"
   },
   "execution_count": null,
   "outputs": []
  },
  {
   "cell_type": "markdown",
   "source": [
    "# Opdracht: Bereken BMI\n",
    "Schrijf een functie die de Body Mass Index (BMI) berekent aan de hand van gewicht (in kilogrammen) en lengte (in centimeters) als invoer"
   ],
   "metadata": {
    "id": "qSx52LEWANqA"
   }
  },
  {
   "cell_type": "code",
   "source": [
    "# Body Mass Index (BMI) met gewicht in kilogrammen en lengte in centimeters als invoer\n",
    "# def bereken_bmi(<INVULLEN>, <INVULLEN>): # Uncomment deze regel\n",
    "\n",
    "  # Zet hieronder de lengte in centimeters om in lengte in meters:\n",
    "  # lengte_in_meters = <INVULLEN> # Uncomment deze regel\n",
    "\n",
    "  # Geef hieronder de BMI terug. De formule is gewicht delen door lengte_in_meters in het kwadraat\n",
    "  # return <INVULLEN> # Uncomment deze regel\n",
    "\n",
    "# gewicht = <INVULLEN> # Uncomment deze regel\n",
    "# lengte = <INVULLEN> # Uncomment deze regel\n",
    "\n",
    "# print(f\"U heeft een BMI van: {bereken_bmi(gewicht, lengte)}\") # Uncomment deze regel\n",
    "\n"
   ],
   "metadata": {
    "id": "ybVEHOpRnIgN"
   },
   "execution_count": null,
   "outputs": []
  },
  {
   "cell_type": "markdown",
   "source": [
    "# Antwoord: Bereken BMI"
   ],
   "metadata": {
    "id": "IcfMtzD-G3vS"
   }
  },
  {
   "cell_type": "code",
   "source": [
    "#@title\n",
    "# Body Mass Index (BMI) met gewicht in kilogrammen en lengte in centimeters als invoer\n",
    "def bereken_bmi(gewicht, lengte_in_centimeters):\n",
    "\n",
    "  # Zet hieronder de lengte in centimeters om in lengte in meters:\n",
    "  lengte_in_meters = lengte_in_centimeters / 100\n",
    "\n",
    "  # Geef hieronder de BMI terug. De formule is gewicht delen door lengte_in_meters in het kwadraat\n",
    "  return gewicht / (lengte_in_meters * lengte_in_meters)\n",
    "\n",
    "gewicht = int(input(\"Wat is uw gewicht (kg)?: \"))\n",
    "lengte = int(input(\"Wat is uw lengte (cm)?: \"))\n",
    "\n",
    "print(f\"U heeft een BMI van: {bereken_bmi(gewicht, lengte)}\")"
   ],
   "metadata": {
    "id": "qkYl-k5OnIQM",
    "cellView": "form"
   },
   "execution_count": null,
   "outputs": []
  },
  {
   "cell_type": "markdown",
   "source": [
    "Vaak (bijna altijd) willen we verschillende code uitvoeren aan de hand van een voorwaarde. Dit kan met de `if`, `elif` en `else` commando's.\n",
    "\n",
    "Hierbij zijn de volgende *operatoren* handig:\n",
    "- `<` betekent kleiner dan, `<=` betekent kleiner of gelijk aan\n",
    "- `>` betekent groter dan, `>=` betekent groter of gelijk aan\n",
    "- `==` betekent is exact gelijk aan\n",
    "\n",
    "Combineren van bovenstaande vergelijkers kan ook:\n",
    "- `(x < 5) and (x > 2)`, `and` betekent dat aan beiden vergelijkingen moet worden voldaan\n",
    "- `(x < 5) or (x > 2)`, `or` betekent dat aan minstens een van de twee vergelijkingen moet worden voldaan\n",
    "\n",
    "Hieronder een demonstratie:\n"
   ],
   "metadata": {
    "id": "d1GGX1ZxboNb"
   }
  },
  {
   "cell_type": "code",
   "source": [
    "x = int(input(\"Kies een getal van 1 t/m 10: \"))\n",
    "\n",
    "# '<' betekent kleiner dan, '<=' betekent kleiner of gelijk aan\n",
    "# '==' betekent is exact gelijk aan\n",
    "# '>' betekent groter dan, '>=' betekent groter of gelijk aan\n",
    "# Combineren van bovenstaande vergelijkers kan ook:\n",
    "# (x < 5) and (x > 2), 'and' betekent dat aan beiden vergelijkingen moet worden voldaan\n",
    "# (x < 5) or (x > 2), 'or' betekent dat aan minstens een van de twee vergelijkingen moet worden voldaan\n",
    "\n",
    "# Als invoer kleiner dan vijf..\n",
    "if (x < 5):\n",
    "  print(\"Getal is kleiner dan 5\")\n",
    "# Als bovenstaande niet geldt, bekijk of x exact gelijk aan 5\n",
    "elif (x == 5):\n",
    "  print(\"Getal is gelijk aan 5\")\n",
    "# Als bovenstaande niet geldt, bekijk of x groter is dan 5\n",
    "elif (x > 5):\n",
    "  print(\"Getal is groter dan 5\")\n",
    "\n",
    "# Als al het bovenstaande niet geldt ...\n",
    "else:\n",
    "  print(\"Dit is volgens mij geen getal\")\n"
   ],
   "metadata": {
    "id": "Fsl1D6pnh0he"
   },
   "execution_count": null,
   "outputs": []
  },
  {
   "cell_type": "markdown",
   "source": [
    "# Opdracht: BMI rapporteren"
   ],
   "metadata": {
    "id": "lhTKICsEEXG_"
   }
  },
  {
   "cell_type": "code",
   "source": [
    "# Gebruik de bereken_bmi functie van eerder en schrijf een programma dat gewicht en lengte als invoer neemt\n",
    "# en met de berekende bmi zegt of dit correspondeert met onder, boven of een normaal gewicht\n",
    "\n",
    "# gewicht = <INVULLEN> # Uncomment deze regel\n",
    "# lengte = <INVULLEN> # Uncomment deze regel\n",
    "# bmi = bereken_bmi(gewicht, lengte) # Uncomment deze regel\n",
    "# print(f\"Uw bmi is {bmi}\") # Uncomment deze regel\n",
    "\n",
    "# Begin hier met de if else commando's\n",
    "# Controleer of bmi kleiner dan 18.5\n",
    "# if bmi <INVULLEN>: # Uncomment deze regel\n",
    "  # print(\"U heeft ondergewicht\") # Uncomment deze regel\n",
    "# controleer dan of bmi tussen de 18.5 en 24.9 ligt\n",
    "# elif <INVULLEN>: # Uncomment deze regel\n",
    "  # print(\"U heeft een normaal gewicht\") # Uncomment deze regel\n",
    "\n",
    "# In alle andere gevallen ...\n",
    "# else <INVULLEN>: # Uncomment deze regel\n",
    "  # print(\"U heeft overgewicht\") # # Uncomment deze regel"
   ],
   "metadata": {
    "id": "SxZ7OCZvGlAD"
   },
   "execution_count": null,
   "outputs": []
  },
  {
   "cell_type": "markdown",
   "source": [
    "# Antwoord: BMI rapporteren"
   ],
   "metadata": {
    "id": "BQZG2vqAGiNC"
   }
  },
  {
   "cell_type": "code",
   "source": [
    "#@title\n",
    "# Gebruik de bereken_bmi functie van eerder en schrijf een programma dat gewicht en lengte als invoer neemt\n",
    "# en met de berekende bmi zegt of dit correspondeert met onder, boven of een normaal gewicht\n",
    "gewicht = int(input(\"Wat is uw gewicht in kilogram?\"))\n",
    "lengte = int(input(\"Wat is uw lengte in centimeters?\"))\n",
    "bmi = bereken_bmi(gewicht, lengte)\n",
    "print(f\"Uw bmi is {bmi}\") \n",
    "\n",
    "# Begin hier met de if else commando's\n",
    "# Controleer of bmi kleiner dan 18.5\n",
    "if bmi < 18.5:\n",
    "  print(\"U heeft ondergewicht\")\n",
    "# controleer dan of bmi tussen de 18.5 en 24.9 ligt\n",
    "elif (bmi >= 18.5) & (bmi <= 24.9):\n",
    "  print(\"U heeft een normaal gewicht\")\n",
    "\n",
    "# In alle andere gevallen ...\n",
    "else:\n",
    "  print(\"U heeft overgewicht\")\n"
   ],
   "metadata": {
    "id": "VDPwxIv2BM9X",
    "cellView": "form"
   },
   "execution_count": null,
   "outputs": []
  },
  {
   "cell_type": "markdown",
   "source": [
    "# Bonus: \n",
    "Breid bovenstaande code uit met meer gevallen zoals (morbide) obesitas."
   ],
   "metadata": {
    "id": "8UAra7POH3V_"
   }
  },
  {
   "cell_type": "markdown",
   "source": [
    "Lists kun je ook op hun beurt in andere lists stoppen. In een for loop is elk element die je af gaat dan een list. Als voorbeeld zullen we de `bereken_bmi` aanroepen met meerdere lists. Elke list bevat hierbij een gewicht en lengte."
   ],
   "metadata": {
    "id": "Tl5YWsZ3MiGv"
   }
  },
  {
   "cell_type": "code",
   "source": [
    "# Een list bestaande uit drie lists. Elke list bevat twee elementen: een gewicht en lengte\n",
    "lists_binnen_list = [[80, 170], [70, 180], [65, 160]]\n",
    "\n",
    "for l in lists_binnen_list:\n",
    "  bmi = bereken_bmi(l[0], l[1])\n",
    "  print(bmi)"
   ],
   "metadata": {
    "id": "qxvxieMHNjz9"
   },
   "execution_count": null,
   "outputs": []
  },
  {
   "cell_type": "markdown",
   "source": [
    "Door middel van de `.append` functie kunnen we elementen toevoegen aan een list\n",
    "\n"
   ],
   "metadata": {
    "id": "PGiAXerCTeS6"
   }
  },
  {
   "cell_type": "code",
   "source": [
    "lege_list = []\n",
    "print(f\"Inhoud van de list vóór append: {lege_list}\")\n",
    "lege_list.append(42)\n",
    "lege_list.append(1337)\n",
    "print(f\"Inhoud van de list na append: {lege_list}\")"
   ],
   "metadata": {
    "id": "q32-nN_nQrBa"
   },
   "execution_count": null,
   "outputs": []
  },
  {
   "cell_type": "markdown",
   "source": [
    "# Bonus 2: \n",
    "Maak een lege list aan en breid de bovenstaande code uit om alle bmi-waardes in een aparte list op te slaan. "
   ],
   "metadata": {
    "id": "3UpFKENANjTT"
   }
  },
  {
   "cell_type": "markdown",
   "source": [
    "Elke list binnen de grote list eerder hierboven kan bijvoorbeeld een persoon zijn en de elementen ervan klinische eigenschappen. Echter is het onduidelijk wat voor informatie in elk element zit, omdat deze enkel een nummer heeft zoals `list[0]` i.p.v. een verklarende label zoals `list['gewicht']`. Gelukkig is dat laatste mogelijk door middel van een *dictionary*. \n",
    "\n",
    "Een dictionary maak je met accolades in plaats van vierkante haakjes.\n",
    "Elk element bestaat uit een key en een value. \n",
    "De key is een beschrijvende label om informatie makkelijk op te zoeken."
   ],
   "metadata": {
    "id": "gSWi7wzOYHMr"
   }
  },
  {
   "cell_type": "code",
   "source": [
    "# Maak een dictionary aan met als keys gewicht en lengte. De bijbehorende waardes zijn 70 en 180. \n",
    "d = {'gewicht': 70, 'lengte': 180}\n",
    "\n",
    "print(f\"Het gewicht is: {d['gewicht']}\")"
   ],
   "metadata": {
    "id": "-wGr4CrRb4fW"
   },
   "execution_count": null,
   "outputs": []
  },
  {
   "cell_type": "markdown",
   "source": [
    "Dictionaries kan je ook in elkaar stoppen. De value van een dict is dan een andere dict. We maken een dict waarvan de keys zelfverzonnen patienten id's zijn. De values zijn dicts met het gewicht en lengte zoals in het voorbeeld hierboven.\n",
    "\n",
    "We bekijken daarna hoe je de lengte van patient nummer 1 ophaalt"
   ],
   "metadata": {
    "id": "Sd2Ao5LZdITF"
   }
  },
  {
   "cell_type": "code",
   "source": [
    "# Maak een dict met patientennummers als key. De value is op zijn beurt een dict met gewicht en lengte.\n",
    "d = {\n",
    "    '1': {'gewicht': 70, 'lengte': 170},\n",
    "    '2': {'gewicht': 60, 'lengte': 170},\n",
    "    '3': {'gewicht': 80, 'lengte': 160},\n",
    "    '4': {'gewicht': 100, 'lengte': 200},\n",
    "}\n",
    "\n",
    "# Haal van patient 1 de lengte op\n",
    "print(d['1']['lengte'])"
   ],
   "metadata": {
    "id": "IIhDjjA-DrDw"
   },
   "execution_count": null,
   "outputs": []
  },
  {
   "cell_type": "code",
   "source": [
    "#Je kan makkelijk ook data aanpassen:\n",
    "d = {'gewicht': 200, 'lengte': 120}\n",
    "print(f\"data voor aanpassing: {d}\")\n",
    "d['gewicht'] = 120\n",
    "d['lengte'] = 200\n",
    "print(f\"data na aanpassing: {d}\")"
   ],
   "metadata": {
    "id": "gKf7-LZGExTa"
   },
   "execution_count": null,
   "outputs": []
  },
  {
   "cell_type": "markdown",
   "source": [
    "# Eindopdracht: BMI beheersysteem\n",
    "Schrijf een programma om de BMI van patienten bij te houden:\n",
    "1. We beginnen met een dict met patientid's als key en nog een dict (per patient) als value: De dict per patient heeft als keys bmi, gewicht en lengte. Lengte is een int in centimeters. Gewicht en bmi hebben een lege list als value.\n",
    "\n",
    "3. Maak een functie genaamd bmi_toevoegen, \n",
    "    1. die de dict, een patiëntnummer en een gewicht aanneemt, \n",
    "    2. dit append aan de list met gewichten \n",
    "    3. een bmi berekent a.d.h.v. het nieuwe gewicht\n",
    "    4. en deze bmi ook append aan de corresponderende list.\n",
    "\n",
    "4. Maak een for loop die alle patienten afgaat en een gewicht/bmi toevoegt voor iedereen.\n",
    "\n",
    "5. Voeg condities toe zodanig dat alleen sommige (geselecteerde) patienten een toevoeging krijgen."
   ],
   "metadata": {
    "id": "o0JHXAznDqFh"
   }
  },
  {
   "cell_type": "code",
   "source": [
    "# Schrijf een programma om de BMI van patienten bij te houden:\n",
    "# 1. We beginnen met een dict met patientid's als key en nog een dict (per patient) als value: \n",
    "#    De dict per patient heeft als keys bmi, gewicht en lengte. Lengte is een int in centimeters. \n",
    "#    Gewicht en bmi hebben een lege list als value.\n",
    "\n",
    "# We gebruiken de module pprint om dictionaries overzichtelijker te printen\n",
    "import pprint \n",
    "pp = pprint.PrettyPrinter(indent=4)\n",
    "\n",
    "d = {\n",
    "    '1': {'bmi':[], 'gewicht': [], 'lengte': 170},\n",
    "    '2': {'bmi':[], 'gewicht': [], 'lengte': 170},\n",
    "    '3': {'bmi':[], 'gewicht': [], 'lengte': 160},\n",
    "    '4': {'bmi':[], 'gewicht': [], 'lengte': 200},\n",
    "}\n",
    "\n",
    "# 2. Maak een functie genaamd bmi_toevoegen,\n",
    "#    1. die de dict, een patiëntnummer en een gewicht aanneemt, \n",
    "# def bmi_toevoegen(<INVULLEN>): #Uncomment deze regel\n",
    "#    2. dit append aan de list met gewichten\n",
    "#  d[nummer_patient][<INVULLEN>].append(<INVULLEN>) #Uncomment deze regel\n",
    "  \n",
    "#    3. een bmi berekent \n",
    "#  bmi = bereken_bmi(<INVULLEN>, d[<INVULLEN>][<INVULLEN>]) #Uncomment deze regel\n",
    "\n",
    "#    4. en deze bmi ook append aan de corresponderende list.\n",
    "#  d[<INVULLEN>][<INVULLEN>].append(<INVULLEN>) #Uncomment deze regel\n",
    "#  return  #Uncomment deze regel\n",
    "\n",
    "# 4. Maak een for loop die lists binnen een list afgaat, \n",
    "     # 1. waarbij elke list een patientnummer en gewicht bevat.\n",
    "     # 2. Binnen de for loop moet een gewicht/bmi toegevoegd worden voor iedereen.\n",
    "# data_gewichten = <INVULLEN> #Uncomment deze regel\n",
    "# for data in data_gewichten: #Uncomment deze regel\n",
    "#  bmi_toevoegen(<INVULLEN>) #Uncomment deze regel\n",
    "\n",
    "pp.pprint(d)\n",
    "# 5. Voeg condities toe zodanig dat alleen sommige (geselecteerde) patienten een toevoeging krijgen."
   ],
   "metadata": {
    "id": "QOaNuUb9Rgxj"
   },
   "execution_count": null,
   "outputs": []
  },
  {
   "cell_type": "code",
   "source": [
    "#@title\n",
    "# Schrijf een programma om de BMI van patienten bij te houden:\n",
    "# 1. We beginnen met een dict met patientid's als key en nog een dict (per patient) als value: \n",
    "#    De dict per patient heeft als keys bmi, gewicht en lengte. Lengte is een int in centimeters. \n",
    "#    Gewicht en bmi hebben een lege list als value.\n",
    "\n",
    "# We gebruiken de module pprint om dictionaries overzichtelijker te printen\n",
    "import pprint \n",
    "pp = pprint.PrettyPrinter(indent=4)\n",
    "\n",
    "d = {\n",
    "    '1': {'bmi':[], 'gewicht': [], 'lengte': 170},\n",
    "    '2': {'bmi':[], 'gewicht': [], 'lengte': 170},\n",
    "    '3': {'bmi':[], 'gewicht': [], 'lengte': 160},\n",
    "    '4': {'bmi':[], 'gewicht': [], 'lengte': 200},\n",
    "}\n",
    "\n",
    "# 2. Maak een functie genaamd bmi_toevoegen,\n",
    "#    1. die de dict, een patiëntnummer en een gewicht aanneemt, \n",
    "def bmi_toevoegen(d, nummer_patient, gewicht):\n",
    "#    2. dit append aan de list met gewichten\n",
    "  d[nummer_patient]['gewicht'].append(gewicht)\n",
    "  \n",
    "#    3. een bmi berekent \n",
    "  bmi = bereken_bmi(gewicht, d[nummer_patient]['lengte'])\n",
    "\n",
    "#    4. en deze bmi ook append aan de corresponderende list.\n",
    "  d[nummer_patient]['bmi'].append(bmi)\n",
    "  return \n",
    "\n",
    "# 4. Maak een for loop die lists binnen een list afgaat, \n",
    "     # 1. waarbij elke list een patientnummer en gewicht bevat.\n",
    "     # 2. Binnen de for loop moet een gewicht/bmi toegevoegd worden voor iedereen.\n",
    "data_gewichten = [['1', 80], ['1', 75], ['2', 90], ['3', 100], ['4', 50]]\n",
    "for data in data_gewichten:\n",
    "  bmi_toevoegen(d, data[0], data[1])\n",
    "\n",
    "pp.pprint(d)\n",
    "# 5. Voeg condities toe zodanig dat alleen sommige (geselecteerde) patienten een toevoeging krijgen."
   ],
   "metadata": {
    "id": "zWuWN1LWK74M",
    "cellView": "form"
   },
   "execution_count": null,
   "outputs": []
  },
  {
   "cell_type": "markdown",
   "source": [
    "# EINDE\n"
   ],
   "metadata": {
    "id": "NgWAYSTQXbI-"
   }
  }
 ]
}
